{
 "cells": [
  {
   "cell_type": "markdown",
   "id": "5a18f769-d01e-43d1-8192-5be7d1aec323",
   "metadata": {},
   "source": [
    "Web scrapping is the process of extracting data from website.It involes fetching web pages.Parsing the HTML to extract relevant information and then  organizing or storing the data.It is used to automate data collection from website that may not provide a converient way to  access or export their data."
   ]
  },
  {
   "cell_type": "markdown",
   "id": "cdd95833-fe80-4285-a2a1-e6899159cb7a",
   "metadata": {},
   "source": [
    "Three area where web scrapping is commonloy used include:\n",
    "    "
   ]
  },
  {
   "cell_type": "markdown",
   "id": "ea1bab2e-9703-4814-a58e-6c681710c4a0",
   "metadata": {},
   "source": [
    "1. Business intelligence:Companies used web scrapping to gather market data,compettion information,and customer sentiments from various website to make informed business decisions."
   ]
  },
  {
   "cell_type": "markdown",
   "id": "b0e321b4-f234-486a-872a-5dee122d3108",
   "metadata": {},
   "source": [
    "2. Research and Academic Studies:Research often use web scrapping to collect data for academic purpose,such as analyzing trends,conducting surveys or aggregating information from multiple source."
   ]
  },
  {
   "cell_type": "markdown",
   "id": "74a0146a-0785-412f-b5c8-3636b9752a87",
   "metadata": {},
   "source": [
    "3. Price Monitoring and Comparision:E-commerce business use web scrapping to monitor competitors price,track product availablity and gather data for dynamic pricing straegies."
   ]
  },
  {
   "cell_type": "markdown",
   "id": "ab748bba-cf2b-4420-9b8a-61f465131509",
   "metadata": {},
   "source": [
    "web scrapping method include:"
   ]
  },
  {
   "cell_type": "markdown",
   "id": "0143165a-8914-4244-abc4-89028eadcb02",
   "metadata": {},
   "source": [
    "1. Manual Scrapping:Manually extracting data from web pages"
   ]
  },
  {
   "cell_type": "markdown",
   "id": "378ec5e6-7b42-41b0-a847-0ab963b946ef",
   "metadata": {},
   "source": [
    "2. Regular Expression:Using regex patterns to extract information from HTML."
   ]
  },
  {
   "cell_type": "markdown",
   "id": "7fd1b6fe-7f1f-4b4d-b195-70d0b22a0c44",
   "metadata": {},
   "source": [
    "3. HTML Parsing:Utilizing libaries like BeautifulSoup or laxmi in Python to parse HTML and extract data"
   ]
  },
  {
   "cell_type": "markdown",
   "id": "ae0d683b-378d-46b8-979f-23d4650b9a5c",
   "metadata": {},
   "source": [
    "4. XPath:Navigating XML documents with XPath expression to locate and extract data"
   ]
  },
  {
   "cell_type": "markdown",
   "id": "d1b088a5-aed4-4d47-9cf2-af8e179c609d",
   "metadata": {},
   "source": [
    "5. CSS Selectors:Selecting HTML elements based on CSS selectors to extract relevant information."
   ]
  },
  {
   "cell_type": "markdown",
   "id": "835bff63-f440-4ecd-ab71-3541d5056aa6",
   "metadata": {},
   "source": [
    "Beautiful Soup is a python libary commonly used for web scrapping purpose. it provides tools to scrape data from HTML and XML files,making it easier to navigate and manipulate the document's structure .Beautiful Soup transforms complex HTML documents into a tree of python objects,allowing developers to search and extract specfic data more efficiently."
   ]
  },
  {
   "cell_type": "markdown",
   "id": "e2bf7332-0a35-4066-b941-e124b41e2fbf",
   "metadata": {},
   "source": [
    "it main feature include:\n",
    "1. parasing HTMLand XML\n",
    "2. Tag Searching\n",
    "3. Tree Navigate\n",
    "4. Modifying Parsed Data"
   ]
  },
  {
   "cell_type": "markdown",
   "id": "7b479c64-67bf-49e5-93b1-65d0e111f71a",
   "metadata": {},
   "source": [
    "Flask is often used in web scrapping projects for the following reasoms:\n",
    "1. Web application Integration\n",
    "2. User Interaction\n",
    "3. Data Presention\n",
    "4. Asynchronus scrapping\n",
    "5. RESTful APIs\n",
    "6. Scalablity"
   ]
  },
  {
   "cell_type": "markdown",
   "id": "4f4d497f-1f4a-4e0a-ab5a-cf6bd823bf64",
   "metadata": {},
   "source": [
    "In a web scrapping project hosted on AWS(amazon web services),several could be utlized depending or the specfic requirments . here are a few AWS services that might be relevant"
   ]
  },
  {
   "cell_type": "markdown",
   "id": "343d1744-96e9-4907-8d29-25b640013e37",
   "metadata": {},
   "source": [
    "1. Amazon EC2(Elastic compute cloud)\n",
    "2. Amazon S3(Simple storage service)\n",
    "3. Amazon RDS(realational Database service)\n",
    "4"
   ]
  }
 ],
 "metadata": {
  "kernelspec": {
   "display_name": "Python 3 (ipykernel)",
   "language": "python",
   "name": "python3"
  },
  "language_info": {
   "codemirror_mode": {
    "name": "ipython",
    "version": 3
   },
   "file_extension": ".py",
   "mimetype": "text/x-python",
   "name": "python",
   "nbconvert_exporter": "python",
   "pygments_lexer": "ipython3",
   "version": "3.10.8"
  }
 },
 "nbformat": 4,
 "nbformat_minor": 5
}
